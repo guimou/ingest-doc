{
 "cells": [
  {
   "cell_type": "code",
   "execution_count": null,
   "id": "4adbeacb-f78b-41bf-b33b-37163188a112",
   "metadata": {
    "tags": []
   },
   "outputs": [],
   "source": [
    "import rh_documentation_processing as rhdp"
   ]
  },
  {
   "cell_type": "code",
   "execution_count": null,
   "id": "456bae8d",
   "metadata": {},
   "outputs": [],
   "source": [
    "# This script is used to generate the documentation splits for the following product.\n",
    "\n",
    "product = 'red_hat_openshift_ai_self-managed' # From the documentation URL\n",
    "product_full_name = 'Red Hat OpenShift AI Self-Managed'\n",
    "version = '2.8'\n",
    "language = 'en-US'"
   ]
  },
  {
   "cell_type": "code",
   "execution_count": null,
   "id": "dcac987e",
   "metadata": {},
   "outputs": [],
   "source": [
    "splits = rhdp.generate_splits(product, product_full_name, version, language)"
   ]
  },
  {
   "cell_type": "code",
   "execution_count": null,
   "id": "7768f97a",
   "metadata": {},
   "outputs": [],
   "source": [
    "for split in splits:\n",
    "    print(f\"Metadata: {split.metadata}\")\n",
    "    print(f\"Page Content:\\n-------------\\n{split.page_content}\")\n",
    "    print(\"\\n\")"
   ]
  }
 ],
 "metadata": {
  "kernelspec": {
   "display_name": "Python 3.9",
   "language": "python",
   "name": "python3"
  },
  "language_info": {
   "codemirror_mode": {
    "name": "ipython",
    "version": 3
   },
   "file_extension": ".py",
   "mimetype": "text/x-python",
   "name": "python",
   "nbconvert_exporter": "python",
   "pygments_lexer": "ipython3",
   "version": "3.11.7"
  }
 },
 "nbformat": 4,
 "nbformat_minor": 5
}
