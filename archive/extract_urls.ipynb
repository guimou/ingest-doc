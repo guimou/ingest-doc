{
 "cells": [
  {
   "cell_type": "code",
   "execution_count": 1,
   "id": "9257a8d6-e387-4ec4-90f1-eb681bc5108c",
   "metadata": {
    "tags": []
   },
   "outputs": [],
   "source": [
    "from bs4 import BeautifulSoup\n",
    "from langchain_community.document_loaders.web_base import WebBaseLoader\n",
    "\n",
    "#url = \"https://access.redhat.com/documentation/en-us/red_hat_openshift_ai_self-managed/2.8\"\n",
    "url = \"https://access.redhat.com/documentation/en-us/red_hat_3scale_api_management/2.14\"\n",
    "loader = WebBaseLoader(url)\n",
    "\n",
    "soup = loader.scrape()"
   ]
  },
  {
   "cell_type": "code",
   "execution_count": 2,
   "id": "dddbbe38-8de8-4753-87ce-a22d96ff7663",
   "metadata": {
    "tags": []
   },
   "outputs": [],
   "source": [
    "# Select only the element titles that contain the links to the documentation\n",
    "filtered_elements = soup.find_all('h3', class_='list-result-title heading-inline')\n",
    "new_soup = BeautifulSoup('', 'lxml')\n",
    "for element in filtered_elements:\n",
    "    new_soup.append(element)"
   ]
  },
  {
   "cell_type": "code",
   "execution_count": 3,
   "id": "48cb7a62-b218-424c-8581-14bdb43e86d5",
   "metadata": {
    "tags": []
   },
   "outputs": [],
   "source": [
    "for match in new_soup.findAll('h3'):\n",
    "    match.unwrap()"
   ]
  },
  {
   "cell_type": "code",
   "execution_count": 4,
   "id": "12db7d99-fb4f-448e-a384-e27e8d337a05",
   "metadata": {
    "tags": []
   },
   "outputs": [],
   "source": [
    "# Extract all the links\n",
    "links = []\n",
    "for match in new_soup.findAll('a'):\n",
    "    links.append(match.get('href'))"
   ]
  },
  {
   "cell_type": "code",
   "execution_count": 6,
   "id": "14dc730d-070b-4c72-879b-956ed5e7dd8d",
   "metadata": {
    "tags": []
   },
   "outputs": [
    {
     "data": {
      "text/plain": [
       "['release_notes_for_red_hat_3scale_api_management_2.14_on-premises',\n",
       " 'migrating_red_hat_3scale_api_management',\n",
       " 'installing_red_hat_3scale_api_management',\n",
       " 'getting_started',\n",
       " 'operating_red_hat_3scale_api_management',\n",
       " 'admin_portal_guide',\n",
       " 'creating_the_developer_portal',\n",
       " 'providing_apis_in_the_developer_portal',\n",
       " 'administering_the_api_gateway',\n",
       " 'glossary',\n",
       " 'liquid_reference']"
      ]
     },
     "execution_count": 6,
     "metadata": {},
     "output_type": "execute_result"
    }
   ],
   "source": [
    "links = [url for url in links if url.startswith('/documentation')]\n",
    "pages = [link.split('/html-single/')[1] for link in links if '/html-single/' in link]\n",
    "pages\n"
   ]
  },
  {
   "cell_type": "code",
   "execution_count": null,
   "id": "cf2861e6-c877-408d-9d22-0afbfb27c060",
   "metadata": {},
   "outputs": [],
   "source": []
  }
 ],
 "metadata": {
  "kernelspec": {
   "display_name": "Python 3.9",
   "language": "python",
   "name": "python3"
  },
  "language_info": {
   "codemirror_mode": {
    "name": "ipython",
    "version": 3
   },
   "file_extension": ".py",
   "mimetype": "text/x-python",
   "name": "python",
   "nbconvert_exporter": "python",
   "pygments_lexer": "ipython3",
   "version": "3.11.7"
  }
 },
 "nbformat": 4,
 "nbformat_minor": 5
}
