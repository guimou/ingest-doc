{
 "cells": [
  {
   "cell_type": "markdown",
   "id": "3420575b-4d00-458b-aa0e-7030008ccd53",
   "metadata": {},
   "source": [
    "## Red Hat Product Documentation Ingestion\n",
    "\n",
    "Using this notebook and the various dependencies, you can extract and ingest a specific Red Hat Product documentation inside a Milvus database using Nomic AI Embeddings."
   ]
  },
  {
   "cell_type": "markdown",
   "id": "8308b229-b520-4e82-a783-eb921bb955e7",
   "metadata": {},
   "source": [
    "### Needed packages"
   ]
  },
  {
   "cell_type": "code",
   "execution_count": 1,
   "id": "91e41b41-f60a-4b0f-91a1-cd273b60f21b",
   "metadata": {
    "tags": []
   },
   "outputs": [],
   "source": [
    "#!pip install -q einops==0.7.0 langchain==0.1.12 pypdf==4.0.2 pymilvus==2.3.6 sentence-transformers==2.4.0 beautifulsoup4==4.12.2 html2text==2024.2.26 lxml==5.1.0 tqdm==4.66.2 "
   ]
  },
  {
   "cell_type": "code",
   "execution_count": 2,
   "id": "801d9dbc-f155-4b04-80a9-8659a1e1b6de",
   "metadata": {},
   "outputs": [],
   "source": [
    "import os\n",
    "import rh_documentation_ingestion as rhdi"
   ]
  },
  {
   "cell_type": "markdown",
   "id": "08cae2e1-1f96-4bcd-81c4-eaa750e8338a",
   "metadata": {},
   "source": [
    "## Product information"
   ]
  },
  {
   "cell_type": "code",
   "execution_count": 3,
   "id": "03335ca7-8e55-47d4-8d2c-60b646b11de5",
   "metadata": {
    "tags": []
   },
   "outputs": [],
   "source": [
    "class product_info:\n",
    "    def __init__(self, product, product_full_name, version, language):\n",
    "        self.product = product\n",
    "        self.product_full_name = product_full_name\n",
    "        self.version = version\n",
    "        self.language = language"
   ]
  },
  {
   "cell_type": "code",
   "execution_count": 4,
   "id": "04e1d1a0-0d12-41fb-9e6f-d4d2f509a6ea",
   "metadata": {
    "tags": []
   },
   "outputs": [],
   "source": [
    "products = []\n",
    "products = []\n",
    "products.append(product_info('red_hat_openshift_ai_self-managed',\n",
    "                             'Red Hat OpenShift AI Self-Managed',\n",
    "                             '2.8',\n",
    "                             'en-US'))\n",
    "products.append(product_info('red_hat_openshift_ai_self-managed',\n",
    "                             'Red Hat OpenShift AI Self-Managed',\n",
    "                             '2.7',\n",
    "                             'en-US'))\n",
    "products.append(product_info('red_hat_openshift_ai_self-managed',\n",
    "                             'Red Hat OpenShift AI Self-Managed',\n",
    "                             '2.6',\n",
    "                             'en-US'))\n",
    "products.append(product_info('red_hat_3scale_api_management',\n",
    "                             'Red Hat 3scale API Management',\n",
    "                             '2.14',\n",
    "                             'en-US'))\n",
    "products.append(product_info('red_hat_advanced_cluster_management_for_kubernetes',\n",
    "                             'Red Hat Advanced Cluster Management for Kubernetes',\n",
    "                             '2.10',\n",
    "                             'en-US'))\n",
    "products.append(product_info('red_hat_advanced_cluster_security_for_kubernetes',\n",
    "                             'Red Hat Advanced Cluster Security for Kubernetes',\n",
    "                             '2.14',\n",
    "                             'en-US'))\n",
    "products.append(product_info('red_hat_amq_streams',\n",
    "                             'Red Hat AMQ Streams',\n",
    "                             '2.6',\n",
    "                             'en-US'))\n",
    "products.append(product_info('red_hat_ansible_automation_platform',\n",
    "                             'Red Hat Ansible Automation Platform',\n",
    "                             '2.4',\n",
    "                             'en-US'))\n",
    "products.append(product_info('red_hat_ansible_lightspeed_with_ibm_watsonx_code_assistant',\n",
    "                             'Red Hat Ansible Lightspeed with IBM watsonx Code Assistant',\n",
    "                             '2.x_latest',\n",
    "                             'en-US'))\n",
    "products.append(product_info('red_hat_data_grid',\n",
    "                             'Red Hat Data Grid',\n",
    "                             '8.4',\n",
    "                             'en-US'))\n",
    "products.append(product_info('red_hat_developer_hub',\n",
    "                             'Red Hat Developer Hub',\n",
    "                             '1.1',\n",
    "                             'en-US'))\n",
    "products.append(product_info('red_hat_enterprise_linux',\n",
    "                             'Red Hat Enterprise Linux',\n",
    "                             '9',\n",
    "                             'en-US'))\n",
    "products.append(product_info('red_hat_enterprise_linux',\n",
    "                             'Red Hat Enterprise Linux',\n",
    "                             '8',\n",
    "                             'en-US'))\n",
    "products.append(product_info('red_hat_enterprise_linux',\n",
    "                             'Red Hat Enterprise Linux',\n",
    "                             '7',\n",
    "                             'en-US'))\n",
    "products.append(product_info('red_hat_hybrid_cloud_console',\n",
    "                             'Red Hat Hybrid Cloud Console',\n",
    "                             '1-latest',\n",
    "                             'en-US'))\n",
    "products.append(product_info('red_hat_insights',\n",
    "                             'Red Hat Insights',\n",
    "                             '1-latest',\n",
    "                             'en-US'))\n",
    "products.append(product_info('red_hat_build_of_microshift',\n",
    "                             'Red Hat build of MicroShift',\n",
    "                             '4.15',\n",
    "                             'en-US'))\n",
    "products.append(product_info('openshift_container_platform',\n",
    "                             'Red Hat OpenShift Container Platform',\n",
    "                             '4.15',\n",
    "                             'en-US'))\n",
    "products.append(product_info('openshift_container_platform',\n",
    "                             'Red Hat OpenShift Container Platform',\n",
    "                             '4.14',\n",
    "                             'en-US'))\n",
    "products.append(product_info('openshift_container_platform',\n",
    "                             'Red Hat OpenShift Container Platform',\n",
    "                             '4.13',\n",
    "                             'en-US'))\n",
    "products.append(product_info('openshift_container_platform',\n",
    "                             'Red Hat OpenShift Container Platform',\n",
    "                             '4.12',\n",
    "                             'en-US'))\n",
    "products.append(product_info('red_hat_openshift_data_foundation',\n",
    "                             'Red Hat OpenShift Data Foundation',\n",
    "                             '4.15',\n",
    "                             'en-US'))\n",
    "products.append(product_info('red_hat_satellite',\n",
    "                             'Red Hat Satellite',\n",
    "                             '6.14',\n",
    "                             'en-US'))\n",
    "products.append(product_info('red_hat_single_sign-on',\n",
    "                             'Red Hat Single Sign-On',\n",
    "                             '7.6',\n",
    "                             'en-US'))"
   ]
  },
  {
   "cell_type": "markdown",
   "id": "ff8e191e-223b-45b4-9c11-63c051c76a35",
   "metadata": {
    "tags": []
   },
   "source": [
    "## Ingestion"
   ]
  },
  {
   "cell_type": "code",
   "execution_count": 5,
   "id": "927796d3-8ff3-4831-8c3f-aed05a54c216",
   "metadata": {
    "tags": []
   },
   "outputs": [],
   "source": [
    "milvus = {}\n",
    "milvus[\"MILVUS_HOST\"] = \"vectordb-milvus.milvus.svc.cluster.local\"\n",
    "milvus[\"MILVUS_PORT\"] = 19530\n",
    "milvus[\"MILVUS_USERNAME\"] = os.getenv('MILVUS_USERNAME')\n",
    "milvus[\"MILVUS_PASSWORD\"] = os.getenv('MILVUS_PASSWORD')"
   ]
  },
  {
   "cell_type": "code",
   "execution_count": 6,
   "id": "03bb88d5-d89e-434c-a395-606e6f74b51a",
   "metadata": {},
   "outputs": [
    {
     "name": "stdout",
     "output_type": "stream",
     "text": [
      "-----------------------------------\n",
      "Processing \"Red Hat OpenShift AI Self-Managed\" at version 2.8, language en-US\n",
      "Found 13 pages:\n",
      "['release_notes', 'introduction_to_red_hat_openshift_ai', 'getting_started_with_red_hat_openshift_ai_self-managed', 'openshift_ai_tutorial_-_fraud_detection_example', 'integrating_data_from_amazon_s3', 'working_on_data_science_projects', 'serving_models', 'managing_users', 'managing_resources', 'installing_and_uninstalling_openshift_ai_self-managed', 'installing_and_uninstalling_openshift_ai_self-managed_in_a_disconnected_environment', 'upgrading_openshift_ai_self-managed', 'upgrading_openshift_ai_self-managed_in_a_disconnected_environment']\n",
      "Generating splits...\n",
      "Generated 487 splits.\n"
     ]
    },
    {
     "name": "stderr",
     "output_type": "stream",
     "text": [
      "You try to use a model that was created with version 2.4.0.dev0, however, your version is 2.4.0. This might cause unexpected behavior or errors. In that case, try to update to the latest version.\n",
      "\n",
      "\n",
      "\n",
      "<All keys matched successfully>\n"
     ]
    },
    {
     "name": "stdout",
     "output_type": "stream",
     "text": [
      "Uploading documents to collection red_hat_openshift_ai_self_managed_en_US_2_8\n"
     ]
    },
    {
     "data": {
      "application/vnd.jupyter.widget-view+json": {
       "model_id": "a628cde7f7f2410688351ff5a30ab18c",
       "version_major": 2,
       "version_minor": 0
      },
      "text/plain": [
       "Batches:   0%|          | 0/16 [00:00<?, ?it/s]"
      ]
     },
     "metadata": {},
     "output_type": "display_data"
    },
    {
     "name": "stdout",
     "output_type": "stream",
     "text": [
      "Finished!\n"
     ]
    }
   ],
   "source": [
    "for product in products:\n",
    "    print('-----------------------------------')\n",
    "    print(f'Processing \"{product.product_full_name}\" at version {product.version}, language {product.language}')\n",
    "    rhdi.ingest_documentation(product, milvus)"
   ]
  }
 ],
 "metadata": {
  "kernelspec": {
   "display_name": "Python 3.9",
   "language": "python",
   "name": "python3"
  },
  "language_info": {
   "codemirror_mode": {
    "name": "ipython",
    "version": 3
   },
   "file_extension": ".py",
   "mimetype": "text/x-python",
   "name": "python",
   "nbconvert_exporter": "python",
   "pygments_lexer": "ipython3",
   "version": "3.9.18"
  }
 },
 "nbformat": 4,
 "nbformat_minor": 5
}
