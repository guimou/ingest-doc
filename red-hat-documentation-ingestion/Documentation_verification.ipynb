{
 "cells": [
  {
   "cell_type": "code",
   "execution_count": 1,
   "id": "4aef322e-570a-45fd-847c-6440de126f09",
   "metadata": {
    "tags": []
   },
   "outputs": [],
   "source": [
    "import os\n",
    "from langchain.embeddings.huggingface import HuggingFaceEmbeddings\n",
    "from langchain_community.vectorstores import Milvus"
   ]
  },
  {
   "cell_type": "code",
   "execution_count": 2,
   "id": "bf232ad8-d1e2-478a-bd7b-f2570efb8d65",
   "metadata": {
    "tags": []
   },
   "outputs": [],
   "source": [
    "class product_info:\n",
    "    def __init__(self, product, product_full_name, version, language):\n",
    "        self.product = product\n",
    "        self.product_full_name = product_full_name\n",
    "        self.version = version\n",
    "        self.language = language"
   ]
  },
  {
   "cell_type": "code",
   "execution_count": 3,
   "id": "0fc21b94-b9c7-4b0d-9d90-0a5d74333286",
   "metadata": {
    "tags": []
   },
   "outputs": [],
   "source": [
    "products = []\n",
    "products.append(product_info('red_hat_openshift_ai_self-managed',\n",
    "                             'Red Hat OpenShift AI Self-Managed',\n",
    "                             '2.8',\n",
    "                             'en-US'))"
   ]
  },
  {
   "cell_type": "code",
   "execution_count": 4,
   "id": "8b852320-d400-4bf8-ad6d-0f4b61bf141f",
   "metadata": {
    "tags": []
   },
   "outputs": [],
   "source": [
    "milvus = {}\n",
    "milvus[\"MILVUS_HOST\"] = \"vectordb-milvus.milvus.svc.cluster.local\"\n",
    "milvus[\"MILVUS_PORT\"] = 19530\n",
    "milvus[\"MILVUS_USERNAME\"] = os.getenv('MILVUS_USERNAME')\n",
    "milvus[\"MILVUS_PASSWORD\"] = os.getenv('MILVUS_PASSWORD')\n"
   ]
  },
  {
   "cell_type": "code",
   "execution_count": 5,
   "id": "2d69c796-478e-4176-b4ee-686a32cfd691",
   "metadata": {
    "tags": []
   },
   "outputs": [
    {
     "name": "stderr",
     "output_type": "stream",
     "text": [
      "You try to use a model that was created with version 2.4.0.dev0, however, your version is 2.4.0. This might cause unexpected behavior or errors. In that case, try to update to the latest version.\n",
      "\n",
      "\n",
      "\n",
      "<All keys matched successfully>\n"
     ]
    }
   ],
   "source": [
    "model_kwargs = {'trust_remote_code': True, 'device': 'cuda'}\n",
    "embeddings = HuggingFaceEmbeddings(\n",
    "    model_name=\"nomic-ai/nomic-embed-text-v1\",\n",
    "    model_kwargs=model_kwargs,\n",
    "    show_progress=True\n",
    ")\n"
   ]
  },
  {
   "cell_type": "code",
   "execution_count": 6,
   "id": "606ed0cd-a8c9-4f20-8eda-f6ccfa425c02",
   "metadata": {},
   "outputs": [
    {
     "data": {
      "application/vnd.jupyter.widget-view+json": {
       "model_id": "5dbd759250bb4d8b8192b09697be444e",
       "version_major": 2,
       "version_minor": 0
      },
      "text/plain": [
       "Batches:   0%|          | 0/1 [00:00<?, ?it/s]"
      ]
     },
     "metadata": {},
     "output_type": "display_data"
    }
   ],
   "source": [
    "query = \"How do I install this product?\"\n",
    "\n",
    "for product_info in products:\n",
    "    MILVUS_COLLECTION = f\"{product_info.product.replace('-', '_')}_{product_info.language.replace('-', '_')}_{product_info.version.replace('.', '_')}\"\n",
    "    db = Milvus(\n",
    "        embedding_function=embeddings,\n",
    "        connection_args={\"host\": milvus[\"MILVUS_HOST\"], \"port\": milvus[\"MILVUS_PORT\"], \"user\": milvus[\"MILVUS_USERNAME\"], \"password\": milvus[\"MILVUS_PASSWORD\"]},\n",
    "        collection_name=MILVUS_COLLECTION,\n",
    "        metadata_field=\"metadata\",\n",
    "        text_field=\"page_content\",\n",
    "        auto_id=True,\n",
    "        drop_old=False\n",
    "        )\n",
    "    docs_with_score = db.similarity_search_with_score(query)"
   ]
  },
  {
   "cell_type": "code",
   "execution_count": 7,
   "id": "35e8345f-45f3-48f5-be3a-347eeb735350",
   "metadata": {
    "tags": []
   },
   "outputs": [
    {
     "name": "stdout",
     "output_type": "stream",
     "text": [
      "--------------------------------------------------------------------------------\n",
      "Score:  0.8957121968269348\n",
      "Section: Installing and uninstalling OpenShift AI Self-Managed / Chapter 2. Installing and deploying OpenShift AI / 2.3. Installing the Red Hat OpenShift AI Operator / 2.3.2. Installing the Red Hat OpenShift AI Operator by using the web\n",
      "\n",
      "Content:\n",
      "8. For Installed Namespace, select `redhat-ods-operator (Operator recommended)`.\n",
      "9. Under Update approval, select either `Automatic` or `Manual`.\n",
      "10. Click Install.  \n",
      "An installation pane opens. When the installation finishes, a checkmark\n",
      "appears beside the Operator name in the installation pane.  \n",
      "Verification  \n",
      "* In the OpenShift Container Platform web console, click Operators → Installed Operators and confirm that the Red Hat OpenShift AI Operator shows one of the following statuses:  \n",
      "* `Installing` \\- installation is in progress; wait for this to change to `Succeeded`. This might take several minutes.\n",
      "* `Succeeded` \\- installation is successful.\n",
      "* In the web console, click Home → Projects and confirm that the following project namespaces are visible and listed as `Active`:  \n",
      "* `redhat-ods-applications`\n",
      "* `redhat-ods-monitoring`\n",
      "* `redhat-ods-operator`  \n",
      "Additional resources  \n",
      "* Installing and managing Red Hat OpenShift AI components\n",
      "* Adding users\n",
      "* Adding Operators to a cluster\n",
      "--------------------------------------------------------------------------------\n",
      "--------------------------------------------------------------------------------\n",
      "Score:  0.903749942779541\n",
      "Section: Installing and uninstalling OpenShift AI Self-Managed / Chapter 2. Installing and deploying OpenShift AI / 2.4. Installing and managing Red Hat OpenShift AI components / 2.4.3. Updating the installation status of Red Hat OpenShift AI components\n",
      "\n",
      "Content:\n",
      "Note  \n",
      "If a component shows with the `component-name: {}` format in the\n",
      "`spec.components` section of the CR, the component is not installed.  \n",
      "-> Managed\n",
      "The Operator actively manages the component, installs it, and tries to keep it active. The Operator will upgrade the component only if it is safe to do so.\n",
      "-> Removed\n",
      "The Operator actively manages the component but does not install it. If the component is already installed, the Operator will try to remove it.\n",
      "Important  \n",
      "* To learn how to install the KServe component, which is used by the single model serving platform to serve large models, see Serving large models.\n",
      "* If they are not already present in the CR file, you can install the CodeFlare and KubeRay features by adding components called `codeflare` and `ray` to the `spec.components` section of the CR and setting the `managementState` field for the components to `Managed`.\n",
      "* The CodeFlare and KubeRay components are Technology Preview features only. Technology Preview features are not supported with Red Hat production service level agreements (SLAs) and might not be functionally complete. Red Hat does not recommend using them in production. These features provide early access to upcoming product features, enabling customers to test functionality and provide feedback during the development process. For more information about the support scope of Red Hat Technology Preview features, see Technology Preview Features Support Scope.\n",
      "* To learn how to configure the distributed workloads feature that uses the CodeFlare and KubeRay components, see Configuring distributed workloads.\n",
      "7. Click Save.  \n",
      "For any components that you updated, OpenShift AI initiates a rollout that\n",
      "affects all pods to use the updated image.  \n",
      "Verification  \n",
      "* Confirm that there is a running pod for each component:  \n",
      "1. In the OpenShift Container Platform web console, click Workloads → Pods.\n",
      "2. In the Project list at the top of the page, select `redhat-ods-applications`.\n",
      "--------------------------------------------------------------------------------\n",
      "--------------------------------------------------------------------------------\n",
      "Score:  0.9058350324630737\n",
      "Section: Installing and uninstalling OpenShift AI Self-Managed / Chapter 2. Installing and deploying OpenShift AI / 2.4. Installing and managing Red Hat OpenShift AI components / 2.4.2. Installing Red Hat OpenShift AI components by using the web console\n",
      "\n",
      "Content:\n",
      "1. Click the Data Science Cluster tab.\n",
      "2. Click Create DataScienceCluster.\n",
      "3. For Configure via, select YAML view.  \n",
      "An embedded YAML editor opens showing a default custom resource (CR) for the\n",
      "`DataScienceCluster` object.  \n",
      "4. In the `spec.components` section of the CR, for each OpenShift AI component shown, set the value of the `managementState` field to either `Managed` or `Removed`. These values are defined as follows:  \n",
      "-> Managed\n",
      "The Operator actively manages the component, installs it, and tries to keep it active. The Operator will upgrade the component only if it is safe to do so.\n",
      "-> Removed\n",
      "The Operator actively manages the component but does not install it. If the component is already installed, the Operator will try to remove it.\n",
      "Important  \n",
      "* To learn how to install the KServe component, which is used by the single model serving platform to serve large models, see Serving large models.\n",
      "* The CodeFlare and KubeRay components are Technology Preview features only. Technology Preview features are not supported with Red Hat production service level agreements (SLAs) and might not be functionally complete. Red Hat does not recommend using them in production. These features provide early access to upcoming product features, enabling customers to test functionality and provide feedback during the development process. For more information about the support scope of Red Hat Technology Preview features, see Technology Preview Features Support Scope.\n",
      "* To learn how to configure the distributed workloads feature that uses the CodeFlare and KubeRay components, see Configuring distributed workloads.\n",
      "4. Click Create.  \n",
      "Verification  \n",
      "* Confirm that there is a running pod for each component:  \n",
      "1. In the OpenShift Container Platform web console, click Workloads → Pods.\n",
      "2. In the Project list at the top of the page, select `redhat-ods-applications`.\n",
      "3. In the applications namespace, confirm that there are running pods for each of the OpenShift AI components that you installed.\n",
      "--------------------------------------------------------------------------------\n",
      "--------------------------------------------------------------------------------\n",
      "Score:  0.9071722030639648\n",
      "Section: Installing and uninstalling OpenShift AI Self-Managed / Chapter 2. Installing and deploying OpenShift AI / 2.3. Installing the Red Hat OpenShift AI Operator / 2.3.2. Installing the Red Hat OpenShift AI Operator by using the web\n",
      "\n",
      "Content:\n",
      "Select this streaming channel with automatic upgrades to access the latest\n",
      "stable release and avoid manually upgrading.\n",
      "`stable-x.y` |  Seven months of full support  |  Every three months  |  Production environments with stability prioritized over new feature availability.\n",
      "Select numbered stable channels (such as `stable-2.8`) to plan and execute the\n",
      "upgrade to the next stable release while keeping your deployment under full\n",
      "support.\n",
      "`eus-x.y` |  Seven months of full support followed by Extended Update Support for eleven months  |  Every nine months  |  Enterprise-grade environments that cannot upgrade within a seven month window.\n",
      "Select this streaming channel if you prioritize stability over new feature\n",
      "availability.\n",
      "`alpha` |  One month of full support  |  Every month  |  Development environments with early-access features that might not be functionally complete.\n",
      "Select this channel to use early-access features that enable you to test\n",
      "functionality and provide feedback during the development process. Early-\n",
      "access features are not supported with Red Hat production service level\n",
      "agreements (SLAs).\n",
      "For more information about the support scope of Red Hat Technology Preview\n",
      "features, see Technology Preview Features Support Scope. For more information\n",
      "about the support scope of Red Hat Developer Preview features, see Developer\n",
      "Preview Features Support Scope.\n",
      "Note  \n",
      "The `embedded` and `beta` channels are legacy channels that will be removed in\n",
      "a future release. Do not select the `embedded` or `beta` channels for a new\n",
      "installation of the Operator.  \n",
      "7. For Installation mode, observe that the only available value is `All namespaces on the cluster (default)`. This installation mode makes the Operator available to all namespaces in the cluster.\n",
      "8. For Installed Namespace, select `redhat-ods-operator (Operator recommended)`.\n",
      "9. Under Update approval, select either `Automatic` or `Manual`.\n",
      "10. Click Install.  \n",
      "An installation pane opens. When the installation finishes, a checkmark\n",
      "--------------------------------------------------------------------------------\n"
     ]
    }
   ],
   "source": [
    "for doc, score in docs_with_score:\n",
    "    print(\"-\" * 80)\n",
    "    print(\"Score: \", score)\n",
    "    print(doc.page_content)\n",
    "    print(\"-\" * 80)"
   ]
  }
 ],
 "metadata": {
  "kernelspec": {
   "display_name": "Python 3.9",
   "language": "python",
   "name": "python3"
  },
  "language_info": {
   "codemirror_mode": {
    "name": "ipython",
    "version": 3
   },
   "file_extension": ".py",
   "mimetype": "text/x-python",
   "name": "python",
   "nbconvert_exporter": "python",
   "pygments_lexer": "ipython3",
   "version": "3.9.18"
  }
 },
 "nbformat": 4,
 "nbformat_minor": 5
}
