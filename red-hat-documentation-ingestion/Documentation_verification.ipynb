{
 "cells": [
  {
   "cell_type": "code",
   "execution_count": null,
   "id": "4aef322e-570a-45fd-847c-6440de126f09",
   "metadata": {
    "tags": []
   },
   "outputs": [],
   "source": [
    "import os\n",
    "from langchain.embeddings.huggingface import HuggingFaceEmbeddings\n",
    "from langchain_community.vectorstores import Milvus"
   ]
  },
  {
   "cell_type": "code",
   "execution_count": null,
   "id": "bf232ad8-d1e2-478a-bd7b-f2570efb8d65",
   "metadata": {
    "tags": []
   },
   "outputs": [],
   "source": [
    "class product_info:\n",
    "    def __init__(self, product, product_full_name, version, language):\n",
    "        self.product = product\n",
    "        self.product_full_name = product_full_name\n",
    "        self.version = version\n",
    "        self.language = language"
   ]
  },
  {
   "cell_type": "code",
   "execution_count": null,
   "id": "0fc21b94-b9c7-4b0d-9d90-0a5d74333286",
   "metadata": {
    "tags": []
   },
   "outputs": [],
   "source": [
    "products = []\n",
    "products.append(product_info('red_hat_openshift_ai_self-managed',\n",
    "                             'Red Hat OpenShift AI Self-Managed',\n",
    "                             '2.8',\n",
    "                             'en-US'))\n",
    "products.append(product_info('red_hat_openshift_ai_self-managed',\n",
    "                             'Red Hat OpenShift AI Self-Managed',\n",
    "                             '2.7',\n",
    "                             'en-US'))\n",
    "products.append(product_info('red_hat_openshift_ai_self-managed',\n",
    "                             'Red Hat OpenShift AI Self-Managed',\n",
    "                             '2.6',\n",
    "                             'en-US'))\n",
    "products.append(product_info('red_hat_3scale_api_management',\n",
    "                             'Red Hat 3scale API Management',\n",
    "                             '2.14',\n",
    "                             'en-US'))\n",
    "products.append(product_info('red_hat_advanced_cluster_management_for_kubernetes',\n",
    "                             'Red Hat Advanced Cluster Management for Kubernetes',\n",
    "                             '2.10',\n",
    "                             'en-US'))\n",
    "products.append(product_info('red_hat_advanced_cluster_security_for_kubernetes',\n",
    "                             'Red Hat Advanced Cluster Security for Kubernetes',\n",
    "                             '4.4',\n",
    "                             'en-US'))\n",
    "products.append(product_info('red_hat_amq_streams',\n",
    "                             'Red Hat AMQ Streams',\n",
    "                             '2.6',\n",
    "                             'en-US'))\n",
    "products.append(product_info('red_hat_ansible_automation_platform',\n",
    "                             'Red Hat Ansible Automation Platform',\n",
    "                             '2.4',\n",
    "                             'en-US'))\n",
    "products.append(product_info('red_hat_ansible_lightspeed_with_ibm_watsonx_code_assistant',\n",
    "                             'Red Hat Ansible Lightspeed with IBM watsonx Code Assistant',\n",
    "                             '2.x_latest',\n",
    "                             'en-US'))\n",
    "products.append(product_info('red_hat_data_grid',\n",
    "                             'Red Hat Data Grid',\n",
    "                             '8.4',\n",
    "                             'en-US'))\n",
    "products.append(product_info('red_hat_developer_hub',\n",
    "                             'Red Hat Developer Hub',\n",
    "                             '1.1',\n",
    "                             'en-US'))\n",
    "products.append(product_info('red_hat_enterprise_linux',\n",
    "                             'Red Hat Enterprise Linux',\n",
    "                             '9',\n",
    "                             'en-US'))\n",
    "products.append(product_info('red_hat_enterprise_linux',\n",
    "                             'Red Hat Enterprise Linux',\n",
    "                             '8',\n",
    "                             'en-US'))\n",
    "products.append(product_info('red_hat_build_of_microshift',\n",
    "                             'Red Hat build of MicroShift',\n",
    "                             '4.15',\n",
    "                             'en-US'))\n",
    "products.append(product_info('red_hat_openshift_data_foundation',\n",
    "                             'Red Hat OpenShift Data Foundation',\n",
    "                             '4.15',\n",
    "                             'en-US'))\n",
    "products.append(product_info('red_hat_satellite',\n",
    "                             'Red Hat Satellite',\n",
    "                             '6.14',\n",
    "                             'en-US'))\n",
    "products.append(product_info('red_hat_single_sign-on',\n",
    "                             'Red Hat Single Sign-On',\n",
    "                             '7.6',\n",
    "                             'en-US'))\n",
    "products.append(product_info('red_hat_advanced_cluster_security_for_kubernetes',\n",
    "                             'Red Hat Advanced Cluster Security for Kubernetes',\n",
    "                             '4.4',\n",
    "                             'en-US'))\n",
    "products.append(product_info('red_hat_enterprise_linux',\n",
    "                             'Red Hat Enterprise Linux',\n",
    "                             '7',\n",
    "                             'en-US'))\n",
    "products.append(product_info('openshift_container_platform',\n",
    "                             'Red Hat OpenShift Container Platform',\n",
    "                             '4.15',\n",
    "                             'en-US'))\n",
    "products.append(product_info('openshift_container_platform',\n",
    "                             'Red Hat OpenShift Container Platform',\n",
    "                             '4.14',\n",
    "                             'en-US'))\n",
    "products.append(product_info('openshift_container_platform',\n",
    "                             'Red Hat OpenShift Container Platform',\n",
    "                             '4.13',\n",
    "                             'en-US'))\n",
    "products.append(product_info('openshift_container_platform',\n",
    "                             'Red Hat OpenShift Container Platform',\n",
    "                             '4.12',\n",
    "                             'en-US'))\n",
    "products.append(product_info('red_hat_openshift_serverless',\n",
    "                             'Red Hat OpenShift Serverless',\n",
    "                             '1.32',\n",
    "                             'en-US'))\n",
    "products.append(product_info('red_hat_hybrid_cloud_console',\n",
    "                             'Red Hat Hybrid Cloud Console',\n",
    "                             '1-latest',\n",
    "                             'en-US'))\n",
    "products.append(product_info('red_hat_insights',\n",
    "                             'Red Hat Insights',\n",
    "                             '1-latest',\n",
    "                             'en-US'))"
   ]
  },
  {
   "cell_type": "code",
   "execution_count": null,
   "id": "8b852320-d400-4bf8-ad6d-0f4b61bf141f",
   "metadata": {
    "tags": []
   },
   "outputs": [],
   "source": [
    "milvus = {}\n",
    "milvus[\"MILVUS_HOST\"] = \"vectordb-milvus.milvus.svc.cluster.local\"\n",
    "milvus[\"MILVUS_PORT\"] = 19530\n",
    "milvus[\"MILVUS_USERNAME\"] = os.getenv('MILVUS_USERNAME')\n",
    "milvus[\"MILVUS_PASSWORD\"] = os.getenv('MILVUS_PASSWORD')"
   ]
  },
  {
   "cell_type": "code",
   "execution_count": null,
   "id": "2d69c796-478e-4176-b4ee-686a32cfd691",
   "metadata": {
    "tags": []
   },
   "outputs": [],
   "source": [
    "model_kwargs = {'trust_remote_code': True, 'device': 'cuda'}\n",
    "embeddings = HuggingFaceEmbeddings(\n",
    "    model_name=\"nomic-ai/nomic-embed-text-v1\",\n",
    "    model_kwargs=model_kwargs,\n",
    "    show_progress=True\n",
    ")"
   ]
  },
  {
   "cell_type": "code",
   "execution_count": null,
   "id": "606ed0cd-a8c9-4f20-8eda-f6ccfa425c02",
   "metadata": {},
   "outputs": [],
   "source": [
    "query = \"How do I install this product?\"\n",
    "\n",
    "for product_info in products:\n",
    "    MILVUS_COLLECTION = f\"{product_info.product}_{product_info.language}_{product_info.version}\".replace(\"-\",\"_\").replace(\".\",\"_\")\n",
    "    db = Milvus(\n",
    "        embedding_function=embeddings,\n",
    "        connection_args={\"host\": milvus[\"MILVUS_HOST\"], \"port\": milvus[\"MILVUS_PORT\"], \"user\": milvus[\"MILVUS_USERNAME\"], \"password\": milvus[\"MILVUS_PASSWORD\"]},\n",
    "        collection_name=MILVUS_COLLECTION,\n",
    "        metadata_field=\"metadata\",\n",
    "        text_field=\"page_content\",\n",
    "        auto_id=True,\n",
    "        drop_old=False\n",
    "        )\n",
    "    docs_with_score = db.similarity_search_with_score(query)\n",
    "\n",
    "    for doc, score in docs_with_score:\n",
    "        print(\"-\" * 80)\n",
    "        print(\"Score: \", score)\n",
    "        print(doc.page_content)\n",
    "        print(\"-\" * 80)"
   ]
  },
  {
   "cell_type": "code",
   "execution_count": null,
   "id": "35e8345f-45f3-48f5-be3a-347eeb735350",
   "metadata": {
    "tags": []
   },
   "outputs": [],
   "source": []
  }
 ],
 "metadata": {
  "kernelspec": {
   "display_name": "Python 3.9",
   "language": "python",
   "name": "python3"
  },
  "language_info": {
   "codemirror_mode": {
    "name": "ipython",
    "version": 3
   },
   "file_extension": ".py",
   "mimetype": "text/x-python",
   "name": "python",
   "nbconvert_exporter": "python",
   "pygments_lexer": "ipython3",
   "version": "3.9.18"
  }
 },
 "nbformat": 4,
 "nbformat_minor": 5
}
